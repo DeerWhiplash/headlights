{
 "cells": [
  {
   "cell_type": "markdown",
   "id": "3785f797-594f-4deb-9fba-c2ed85b19a80",
   "metadata": {},
   "source": [
    "# Data Preprocessing\n",
    "\n",
    "## Note on Onehot Encoding\n",
    "\n",
    "To prevent cluttering the database with several extra columns (and thus making it harder to maintain) the data will not be onehot encoded at this point. Instead onehot encoding will be applied to the dataset on demand by the ML service when requested.\n",
    "\n",
    "This applies to the following columns:\n",
    " - AccidentType\n",
    " - Dominant injury\n",
    " - Vehicle Type\n",
    " - Weather Conditions\n",
    " - Accident Description\n",
    " - Injury Description\n",
    " - Gender"
   ]
  },
  {
   "cell_type": "markdown",
   "id": "15226dc0-6d3c-4230-8197-6e141ffdce12",
   "metadata": {},
   "source": [
    "## Initial Data"
   ]
  },
  {
   "cell_type": "code",
   "execution_count": null,
   "id": "aa54cbac-89e3-43b9-98a4-b1f567a0876a",
   "metadata": {
    "tags": []
   },
   "outputs": [],
   "source": [
    "import pandas as pd\n",
    "import seaborn as sns\n",
    "import datetime\n",
    "import matplotlib.pyplot as plt"
   ]
  },
  {
   "cell_type": "code",
   "execution_count": null,
   "id": "e7e06fca-99be-49bf-9dc3-a026d0be75ab",
   "metadata": {
    "tags": []
   },
   "outputs": [],
   "source": [
    "claimData = pd.read_csv('OriginalClaimData.csv')"
   ]
  },
  {
   "cell_type": "code",
   "execution_count": null,
   "id": "f00a2a50-9884-40b7-848f-0fb58f68174d",
   "metadata": {
    "tags": []
   },
   "outputs": [],
   "source": [
    "pd.set_option('display.max_columns', None)  \n",
    "print(claimData.columns)\n",
    "print(claimData)"
   ]
  },
  {
   "cell_type": "code",
   "execution_count": null,
   "id": "c528abd4",
   "metadata": {
    "tags": []
   },
   "outputs": [],
   "source": [
    "print(f\"Dataset shape: {claimData.shape}\")\n",
    "claimData.info()\n",
    "claimData.describe().T\n"
   ]
  },
  {
   "cell_type": "code",
   "execution_count": null,
   "id": "f397b577",
   "metadata": {
    "tags": []
   },
   "outputs": [],
   "source": [
    "missing_values = claimData.isnull().sum()\n",
    "print(\"\\nMissing values per column:\")\n",
    "print(missing_values[missing_values > 0])"
   ]
  },
  {
   "cell_type": "code",
   "execution_count": null,
   "id": "31a92743",
   "metadata": {
    "tags": []
   },
   "outputs": [],
   "source": [
    "\n",
    "# Identify categorical and numerical columns\n",
    "categorical_cols = claimData.select_dtypes(include=['object', 'string']).columns.tolist()\n",
    "numerical_cols = claimData.select_dtypes(include=['int64', 'float64']).columns.tolist()\n",
    "\n",
    "# Remove the target variable from the feature lists\n",
    "target_col = 'SettlementValue'\n",
    "if target_col in numerical_cols:\n",
    "    numerical_cols.remove(target_col)\n",
    "\n",
    "print(f\"\\nCategorical columns: {categorical_cols}\")\n",
    "print(f\"Numerical columns: {numerical_cols}\")\n",
    "print(f\"Target column: {target_col}\")\n"
   ]
  },
  {
   "cell_type": "markdown",
   "id": "055f5baa-f856-4a36-adbf-3cf4bcc20105",
   "metadata": {},
   "source": [
    "## Handling Missing Data"
   ]
  },
  {
   "cell_type": "markdown",
   "id": "afb40bfe-d731-44dc-acca-2c8a02663c7c",
   "metadata": {},
   "source": [
    "### Removing Missing Values\n",
    "\n",
    "Since the settlement value is what's being predicted, any row with a null settlement value is invalid"
   ]
  },
  {
   "cell_type": "code",
   "execution_count": null,
   "id": "6dd647cc-b989-4646-a679-6b288ef4503a",
   "metadata": {
    "tags": []
   },
   "outputs": [],
   "source": [
    "removableValueColumns = []\n",
    "removableValueColumns.append('SettlementValue')"
   ]
  },
  {
   "cell_type": "markdown",
   "id": "7eb7d3d7-bb6e-4c26-b11e-be6c58687e04",
   "metadata": {},
   "source": [
    "All values in injury prognosis have an associated letter code, since there is no provided letter code for missing/0 month prognoses there is no valid default value so any data rows with a missing prognosis is removed."
   ]
  },
  {
   "cell_type": "code",
   "execution_count": null,
   "id": "55ac99e3-8456-4a47-880d-22b175f5b65a",
   "metadata": {
    "tags": []
   },
   "outputs": [],
   "source": [
    "removableValueColumns.append('Injury_Prognosis')"
   ]
  },
  {
   "cell_type": "markdown",
   "id": "1c366f17-f135-4fd7-83c2-754549908253",
   "metadata": {},
   "source": [
    "Dates and ages dont have good default values so they're removed. For number of passengers, while 1 seems a sensible default, this isn't necessarily a valid inference and is therefore removed."
   ]
  },
  {
   "cell_type": "code",
   "execution_count": null,
   "id": "257f1e11-0f1c-44f3-a575-9ca00eab195a",
   "metadata": {
    "tags": []
   },
   "outputs": [],
   "source": [
    "removableValueColumns.append('Accident Date')\n",
    "removableValueColumns.append('Claim Date')\n",
    "removableValueColumns.append('Number of Passengers')\n",
    "removableValueColumns.append('Driver Age')\n",
    "removableValueColumns.append('Vehicle Age')"
   ]
  },
  {
   "cell_type": "code",
   "execution_count": null,
   "id": "4ff675d8-df53-4452-8db7-118f2e862462",
   "metadata": {
    "tags": []
   },
   "outputs": [],
   "source": [
    "for rowIndex, rowData in claimData.iterrows():\n",
    "    for col in removableValueColumns:\n",
    "        if pd.isna(rowData[col]):\n",
    "            claimData.drop(index=rowIndex, inplace=True)\n",
    "            break"
   ]
  },
  {
   "cell_type": "code",
   "execution_count": null,
   "id": "903c849f-2d92-4acc-8858-473b7114b4f6",
   "metadata": {
    "tags": []
   },
   "outputs": [],
   "source": [
    "claimData.reset_index(drop=True, inplace=True)    \n",
    "\n",
    "print(claimData.isnull().any(axis = 1).sum())\n",
    "print(len(claimData))"
   ]
  },
  {
   "cell_type": "markdown",
   "id": "abb6be72-bd7b-4350-81ba-1315867f15dd",
   "metadata": {},
   "source": [
    "### Replace Missing Values\n",
    "\n",
    "The following columns all represent monetary values. A missing value is interpreted as no value and thus they are defaulted to 0."
   ]
  },
  {
   "cell_type": "code",
   "execution_count": null,
   "id": "ec6a30e9-e6a4-4fce-907b-1c6a724b09ca",
   "metadata": {
    "tags": []
   },
   "outputs": [],
   "source": [
    "defaultZeroColumns = ['SpecialHealthExpenses', 'SpecialReduction', 'SpecialOverage',\n",
    "                      'GeneralRest', 'SpecialAdditionalInjury', 'SpecialEarningsLoss',\n",
    "                      'SpecialUsageLoss', 'SpecialMedications', 'SpecialAssetDamage',\n",
    "                      'SpecialRehabilitation', 'SpecialFixes', 'GeneralFixed',\n",
    "                      'GeneralUplift', 'SpecialLoanerVehicle', 'SpecialTripCosts',\n",
    "                      'SpecialJourneyExpenses', 'SpecialTherapy']\n",
    "\n",
    "for rowIndex, rowData in claimData.iterrows():\n",
    "    for col in defaultZeroColumns:\n",
    "        if pd.isna(rowData[col]):\n",
    "            claimData.at[rowIndex, col] = 0\n",
    "            \n",
    "print(claimData.isnull().any(axis = 1).sum())"
   ]
  },
  {
   "cell_type": "markdown",
   "id": "ff6441f0-0c33-40ce-a614-bcd679d7bb5c",
   "metadata": {},
   "source": [
    "The following columns are all boolean values. A missing value here is interpreted as false."
   ]
  },
  {
   "cell_type": "code",
   "execution_count": null,
   "id": "d6776e22-474a-4505-ba30-36cdba62f79d",
   "metadata": {
    "tags": []
   },
   "outputs": [],
   "source": [
    "defaultNoColumns = ['Exceptional_Circumstances', 'Minor_Psychological_Injury', 'Whiplash', 'Police Report Filed', 'Witness Present']\n",
    "\n",
    "for rowIndex, rowData in claimData.iterrows():\n",
    "    for col in defaultNoColumns:\n",
    "        if pd.isna(rowData[col]):\n",
    "            claimData.at[rowIndex, col] = \"No\""
   ]
  },
  {
   "cell_type": "code",
   "execution_count": null,
   "id": "b69e0520-e3fa-4fde-8eab-c70e9e83f7f4",
   "metadata": {
    "tags": []
   },
   "outputs": [],
   "source": [
    "print(claimData.isnull().any(axis = 1).sum())"
   ]
  },
  {
   "cell_type": "markdown",
   "id": "538367e1-2107-489e-831a-ada0dec8820f",
   "metadata": {
    "tags": []
   },
   "source": [
    "### Remaining Missing Values\n",
    "\n",
    "Any missing values that haven't been handled so far are in columns that will later be one hot encoded at which point the missing value will no longer be an issue as it will instead be represented by a 0 across all relevant onehot columns."
   ]
  },
  {
   "cell_type": "markdown",
   "id": "31e06cee-96a9-4079-914b-b5c2f288967f",
   "metadata": {},
   "source": [
    "## Duplicate Values"
   ]
  },
  {
   "cell_type": "code",
   "execution_count": null,
   "id": "2964ac4b-55be-4f1e-b167-93dce55238cb",
   "metadata": {
    "tags": []
   },
   "outputs": [],
   "source": [
    "# No duplicated rows\n",
    "duplicates = claimData[claimData.duplicated(keep=False)]  # Finds all duplicates\n",
    "# print(duplicates)\n",
    "\n",
    "settlementCount = claimData['SettlementValue'].value_counts()\n",
    "print(settlementCount.head(10))"
   ]
  },
  {
   "cell_type": "markdown",
   "id": "d02a04a5-dd62-4570-a91e-ba826d705801",
   "metadata": {},
   "source": [
    "£520 appears nearly twice as much as other most frequent values. We could maybe look at removing half these sample and how this affects our model."
   ]
  },
  {
   "cell_type": "markdown",
   "id": "e32e1743-c5ca-4c31-a036-e701fb2a37e7",
   "metadata": {},
   "source": [
    "## Data Visualization"
   ]
  },
  {
   "cell_type": "markdown",
   "id": "669f5671-274d-4bfc-b7c2-1abd4c221005",
   "metadata": {},
   "source": [
    "In our dataset we have two protected characteristics:\n",
    "- Age\n",
    "- Gender\n",
    "\n",
    "We can plot these columns to visualise how the data is distributed and if it is representative/ balanced."
   ]
  },
  {
   "cell_type": "code",
   "execution_count": null,
   "id": "c2af5dae-f93f-4bed-b1bc-fac700641993",
   "metadata": {
    "tags": []
   },
   "outputs": [],
   "source": [
    "sns.displot(claimData['Gender'].to_numpy())\n",
    "sns.displot(data=claimData, x=\"Driver Age\", col=\"Gender\", kde=True, col_wrap=4)"
   ]
  },
  {
   "cell_type": "markdown",
   "id": "f8b71cbc-c836-4b2b-b6d1-95a460e5e423",
   "metadata": {},
   "source": [
    "We have a good balance of sample size across gender. With only slightly more male than other categories.\n",
    "\n",
    "We also have a good distribution of age representation within these groups."
   ]
  },
  {
   "cell_type": "code",
   "execution_count": null,
   "id": "1be037de-83e1-4e20-bc52-246689614df7",
   "metadata": {
    "tags": []
   },
   "outputs": [],
   "source": [
    "sns.displot(data=claimData, x=\"SettlementValue\", col=\"Gender\", kde=True, col_wrap=4)"
   ]
  },
  {
   "cell_type": "markdown",
   "id": "d5b53480-64ac-4f79-ab55-aadeb0310ac8",
   "metadata": {},
   "source": [
    "Distribution of settlement value seems similar across all genders."
   ]
  },
  {
   "cell_type": "code",
   "execution_count": null,
   "id": "77967c9c-4321-4671-b078-269eee1ac00f",
   "metadata": {
    "tags": []
   },
   "outputs": [],
   "source": [
    "def age_group(age):\n",
    "    if age <= 30:\n",
    "        return \"Under 30\"\n",
    "    if age <= 40:\n",
    "        return \"Under 40\"\n",
    "    if age <= 50:\n",
    "        return \"Under 50\"\n",
    "    if age <= 60:\n",
    "        return \"Under 60\"\n",
    "    if age <= 70:\n",
    "        return \"Under 70\"\n",
    "    if age <= 80:\n",
    "        return \"Under 80\"\n",
    "    \n",
    "age_df = claimData[[\"Driver Age\", \"SettlementValue\"]].copy()\n",
    "\n",
    "age_df[\"AgeGroup\"] = age_df['Driver Age'].apply(age_group)\n",
    "\n",
    "sns.displot(data=age_df, x=\"SettlementValue\", col=\"AgeGroup\", kde=True, col_wrap=4)\n",
    "        "
   ]
  },
  {
   "cell_type": "code",
   "execution_count": null,
   "id": "3b5037ff",
   "metadata": {},
   "outputs": [],
   "source": [
    "# Check for biases in settlement values by protected characteristics\n",
    "if 'Gender' in claimData.columns:\n",
    "    plt.figure(figsize=(10, 6))\n",
    "    sns.boxplot(x='Gender', y=target_col, data=claimData)\n",
    "    plt.title('Settlement Values by Gender')\n",
    "    plt.tight_layout()\n",
    "    plt.show()"
   ]
  },
  {
   "cell_type": "code",
   "execution_count": null,
   "id": "db2a4529",
   "metadata": {},
   "outputs": [],
   "source": [
    "if 'DriverAge' in claimData.columns:\n",
    "    # Create age groups for visualization\n",
    "    claimData['AgeGroup'] = pd.cut(claimData['DriverAge'], \n",
    "                                    bins=[0, 30, 40, 50, 60, 70, 80],\n",
    "                                    labels=['Under 30', '30-40', '40-50', '50-60', '60-70', '70-80'])\n",
    "    \n",
    "    plt.figure(figsize=(12, 6))\n",
    "    sns.boxplot(x='AgeGroup', y=target_col, data=claimData)\n",
    "    plt.title('Settlement Values by Age Group')\n",
    "    plt.xticks(rotation=45)\n",
    "    plt.tight_layout()\n",
    "    plt.show()\n"
   ]
  },
  {
   "cell_type": "markdown",
   "id": "49c85909-3eaa-4d98-b083-e7021d0a195a",
   "metadata": {},
   "source": [
    "Above plots show settlement value by age groups. All have a very similar distribution.\n",
    "\n",
    "Based on the above plots our dataset is balanced and representative in terms of protected characteristics. We can look at removing gender if it's not needed as it shouldn't have any bearing on our problem."
   ]
  },
  {
   "cell_type": "markdown",
   "id": "c57d2963-e584-4ccc-9555-c59ab9afc4e9",
   "metadata": {},
   "source": [
    "## Reducing Accuracy\n",
    "\n",
    "Accident date and claim date are both recorded down to the millisecond which is far more accurate than is reasonably possible or necessary. Furthermore, since the time value for is identical across both fields it is likely that it was added automatically and/or by mistake."
   ]
  },
  {
   "cell_type": "code",
   "execution_count": null,
   "id": "ed02ae3f-acff-4f89-91e9-6fdbbab7fa81",
   "metadata": {
    "tags": []
   },
   "outputs": [],
   "source": [
    "for rowIndex, rowData in claimData.iterrows():\n",
    "    # The date portion of the data is always the first 10 characters\n",
    "    accidentDateOnly = rowData[\"Accident Date\"][:10]\n",
    "    claimDateOnly = rowData[\"Claim Date\"][:10]\n",
    "    \n",
    "    claimData.at[rowIndex, \"Accident Date\"] = accidentDateOnly\n",
    "    claimData.at[rowIndex, \"Claim Date\"] = claimDateOnly\n",
    "    \n",
    "print(claimData[[\"Accident Date\", \"Claim Date\"]])"
   ]
  },
  {
   "cell_type": "markdown",
   "id": "8cc66ae3-355d-4ccb-8776-dd100df770bb",
   "metadata": {},
   "source": [
    "## Data Types\n",
    "\n",
    "Currently the injury prognosis is stored as a string in the format \"X months\" and preceded by a letter code. The letter code and \"months\" text is completely unnecessary and thus are being removed and the field converted to an integer representing the prognosis in months."
   ]
  },
  {
   "cell_type": "code",
   "execution_count": null,
   "id": "592bf39f-5397-4715-adf0-fb234c9a7909",
   "metadata": {
    "tags": []
   },
   "outputs": [],
   "source": [
    "i = 0\n",
    "for cellData in claimData[\"Injury_Prognosis\"]:\n",
    "    months = int(''.join(c for c in cellData if c.isdigit()))\n",
    "    claimData.at[i, \"Injury_Prognosis\"] = months\n",
    "    i += 1\n",
    "    \n",
    "print(claimData[\"Injury_Prognosis\"])"
   ]
  },
  {
   "cell_type": "markdown",
   "id": "decce8ef-096a-4137-b2fb-48948d78641d",
   "metadata": {},
   "source": [
    "There are several columns which only contain \"Yes\" or \"No\" and as such are better represented boolean or binary values."
   ]
  },
  {
   "cell_type": "code",
   "execution_count": null,
   "id": "539b511a-b75a-4851-a669-87bb11aeaef0",
   "metadata": {},
   "outputs": [],
   "source": [
    "binaryCols = defaultNoColumns\n",
    "\n",
    "for col in binaryCols:\n",
    "    i = 0\n",
    "    for cellData in claimData[col]:\n",
    "        val = 1 if cellData == \"Yes\" else 0\n",
    "        claimData.at[i, col] = val\n",
    "        i += 1\n",
    "        \n",
    "print(claimData[binaryCols])"
   ]
  },
  {
   "cell_type": "markdown",
   "id": "6cccf4e2-9f4c-40f1-9295-1a9249c7c55c",
   "metadata": {},
   "source": [
    "In order for an AI to properly train on and understand a date, we need to convert it to a numerical value first, such as unix time or in our case (since we are using date only) julian date."
   ]
  },
  {
   "cell_type": "markdown",
   "id": "6641e0dc",
   "metadata": {},
   "source": [
    "1. First converts the string dates to Julian format\n",
    "2. Fixes the bug by using claimDate.year \n",
    "3. Calculates the difference to get days between dates"
   ]
  },
  {
   "cell_type": "code",
   "execution_count": null,
   "id": "e2e9e2f2-d4b3-4ef4-8eb0-8f86e075156e",
   "metadata": {},
   "outputs": [],
   "source": [
    "# for rowIndex, rowData in claimData.iterrows():\n",
    "#     accidentDate = rowData[\"Accident Date\"]\n",
    "#     claimDate = rowData[\"Claim Date\"]\n",
    "    \n",
    "#     accidentDate = datetime.datetime.strptime(accidentDate, '%Y-%m-%d')\n",
    "#     accidentJulianDay = accidentDate.strftime('%j')\n",
    "#     accidentJulianDate = int(f\"{accidentDate.year}{accidentJulianDay}\")\n",
    "    \n",
    "#     claimDate = datetime.datetime.strptime(claimDate, '%Y-%m-%d')\n",
    "#     claimJulianDay = claimDate.strftime('%j')\n",
    "#     claimJulianDate = int(f\"{accidentDate.year}{claimJulianDay}\")\n",
    "    \n",
    "#     claimData.at[rowIndex, \"Accident Date\"] = accidentJulianDate\n",
    "#     claimData.at[rowIndex, \"Claim Date\"] = claimJulianDate\n",
    "    \n",
    "# print(claimData[[\"Accident Date\", \"Claim Date\"]])\n",
    "\n",
    "# Calculate days between accident and claim dates\n",
    "\n",
    "for rowIndex, rowData in claimData.iterrows():\n",
    "    accidentDate = rowData[\"Accident Date\"]\n",
    "    claimDate = rowData[\"Claim Date\"]\n",
    "    \n",
    "    accidentDate = datetime.datetime.strptime(accidentDate, '%Y-%m-%d')\n",
    "    accidentJulianDay = accidentDate.strftime('%j')\n",
    "    accidentJulianDate = int(f\"{accidentDate.year}{accidentJulianDay}\")\n",
    "    \n",
    "    claimDate = datetime.datetime.strptime(claimDate, '%Y-%m-%d')\n",
    "    claimJulianDay = claimDate.strftime('%j')\n",
    "\n",
    "    claimJulianDate = int(f\"{claimDate.year}{claimJulianDay}\")\n",
    "    \n",
    "    claimData.at[rowIndex, \"Accident Date\"] = accidentJulianDate\n",
    "    claimData.at[rowIndex, \"Claim Date\"] = claimJulianDate\n",
    "\n",
    "claimData['DaysBetweenAccidentAndClaim'] = claimData[\"Claim Date\"] - claimData[\"Accident Date\"]\n"
   ]
  },
  {
   "cell_type": "code",
   "execution_count": null,
   "id": "24e30eca-4050-4aa7-959a-810b0d335224",
   "metadata": {},
   "outputs": [],
   "source": [
    "claimData.convert_dtypes().dtypes"
   ]
  },
  {
   "cell_type": "markdown",
   "id": "3c82db85",
   "metadata": {},
   "source": [
    "## Skewness"
   ]
  },
  {
   "cell_type": "markdown",
   "id": "7a760bd8",
   "metadata": {},
   "source": [
    "Checking for possible skewness in the dataset. This plots how often the settlement values were awarded. "
   ]
  },
  {
   "cell_type": "code",
   "execution_count": null,
   "id": "d84ada27",
   "metadata": {},
   "outputs": [],
   "source": [
    "plt.figure(figsize=(10, 6))\n",
    "sns.histplot(claimData[target_col], kde=True)\n",
    "plt.title('Distribution of Settlement Values')\n",
    "plt.xlabel('Settlement Value')\n",
    "plt.ylabel('Frequency')\n",
    "plt.tight_layout()\n",
    "plt.show()"
   ]
  },
  {
   "cell_type": "code",
   "execution_count": null,
   "id": "8c4844d2",
   "metadata": {},
   "outputs": [],
   "source": [
    "skewness = claimData[target_col].skew()\n",
    "print(f\"Skewness of target variable: {skewness}\")"
   ]
  },
  {
   "cell_type": "markdown",
   "id": "cea75a64",
   "metadata": {},
   "source": [
    "With the skewness being above 1, log transformation can be used to make it more even. This would mean the data will need to be transformed before inferencing. "
   ]
  },
  {
   "cell_type": "markdown",
   "id": "806c0391-5ffb-4aa8-a8e2-f5711e86ef05",
   "metadata": {},
   "source": [
    "## Correlation Matrix"
   ]
  },
  {
   "cell_type": "code",
   "execution_count": null,
   "id": "06ddceaa",
   "metadata": {},
   "outputs": [],
   "source": [
    "if 'DriverAge' in claimData.columns:\n",
    "    # Create age groups for visualization\n",
    "    claimData['AgeGroup'] = pd.cut(claimData['DriverAge'], \n",
    "                                    bins=[0, 30, 40, 50, 60, 70, 80],\n",
    "                                    labels=['Under 30', '30-40', '40-50', '50-60', '60-70', '70-80'])\n",
    "    \n",
    "    plt.figure(figsize=(12, 6))\n",
    "    sns.boxplot(x='AgeGroup', y=target_col, data=claimData)\n",
    "    plt.title('Settlement Values by Age Group')\n",
    "    plt.xticks(rotation=45)\n",
    "    plt.tight_layout()\n",
    "    plt.show()\n"
   ]
  },
  {
   "cell_type": "code",
   "execution_count": null,
   "id": "f4d8b946-dfb1-410b-bb72-f6bac17f9117",
   "metadata": {
    "tags": []
   },
   "outputs": [],
   "source": [
    "corr_matrix = claimData.corr(numeric_only=True)\n",
    "plt.figure(figsize=(12, 6))\n",
    "sns.heatmap(corr_matrix, annot=True, cmap='coolwarm', fmt=\".2f\", linewidths=1)\n",
    "plt.title(\"Feature Correlation with Target\")\n",
    "plt.show()"
   ]
  },
  {
   "cell_type": "code",
   "execution_count": null,
   "id": "e5bc9053",
   "metadata": {},
   "outputs": [],
   "source": [
    "# top correlations with target\n",
    "target_correlations = corr_matrix[target_col].sort_values(ascending=False)\n",
    "print(\"\\nTop 10 features correlated with settlement value:\")\n",
    "print(target_correlations[:10])\n"
   ]
  },
  {
   "cell_type": "markdown",
   "id": "3e34715e-24aa-4059-97fe-c471fd322b09",
   "metadata": {},
   "source": [
    "## Column Names\n",
    "\n",
    "Column names in the dataset use varying naming conventions including PascalCase, Snake_Case and some are simply written with spaces. The database being used has all column names in PascalCase so for clarity and consistency all columns in the dataset will be converted. "
   ]
  },
  {
   "cell_type": "code",
   "execution_count": null,
   "id": "22894f58-2285-461c-9c25-424052b001c0",
   "metadata": {
    "tags": []
   },
   "outputs": [],
   "source": [
    "columnRenameDict = {\n",
    "    \"Injury_Prognosis\":\"InjuryPrognosis\",\n",
    "    \"Exceptional_Circumstances\":\"ExceptionalCircumstances\",\n",
    "    \"Minor_Psychological_Injury\":\"MinorPsychologicalInjury\",\n",
    "    \"Dominant injury\":\"DominantInjury\",\n",
    "    \"Vehicle Type\":\"VehicleType\",\n",
    "    \"Weather Conditions\":\"WeatherConditions\",\n",
    "    \"Accident Date\":\"AccidentDate\",\n",
    "    \"Claim Date\":\"ClaimDate\",\n",
    "    \"Vehicle Age\":\"VehicleAge\",\n",
    "    \"Driver Age\":\"DriverAge\",\n",
    "    \"Number of Passengers\":\"NumberOfPassengers\",\n",
    "    \"Accident Description\":\"AccidentDescription\",\n",
    "    \"Injury Description\":\"InjuryDescription\",\n",
    "    \"Police Report Filed\":\"PoliceReportFiled\",\n",
    "    \"Witness Present\":\"WitnessPresent\"\n",
    "}\n",
    "\n",
    "claimData = claimData.rename(columns=columnRenameDict)\n",
    "print(claimData.columns)"
   ]
  },
  {
   "cell_type": "code",
   "execution_count": null,
   "id": "d9be70d6-79fb-451c-a284-b056d2164ae3",
   "metadata": {},
   "outputs": [],
   "source": [
    "claimData.to_csv('ProcessedClaimData.csv', index=False)"
   ]
  }
 ],
 "metadata": {
  "kernelspec": {
   "display_name": "desd_1",
   "language": "python",
   "name": "python3"
  },
  "language_info": {
   "codemirror_mode": {
    "name": "ipython",
    "version": 3
   },
   "file_extension": ".py",
   "mimetype": "text/x-python",
   "name": "python",
   "nbconvert_exporter": "python",
   "pygments_lexer": "ipython3",
   "version": "3.12.9"
  }
 },
 "nbformat": 4,
 "nbformat_minor": 5
}
