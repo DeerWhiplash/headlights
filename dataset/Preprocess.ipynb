{
 "cells": [
  {
   "cell_type": "markdown",
   "id": "3785f797-594f-4deb-9fba-c2ed85b19a80",
   "metadata": {},
   "source": [
    "# Data Preprocessing\n",
    "\n",
    "## Note on Onehot Encoding\n",
    "\n",
    "To prevent cluttering the database with several extra columns (and thus making it harder to maintain) the data will not be onehot encoded at this point. Instead onehot encoding will be applied to the dataset on demand by the ML service when requested.\n",
    "\n",
    "This applies to the following columns:\n",
    " - AccidentType\n",
    " - Dominant injury\n",
    " - Vehicle Type\n",
    " - Weather Conditions\n",
    " - Accident Description\n",
    " - Injury Description\n",
    " - Gender"
   ]
  },
  {
   "cell_type": "markdown",
   "id": "15226dc0-6d3c-4230-8197-6e141ffdce12",
   "metadata": {},
   "source": [
    "## Initial Data"
   ]
  },
  {
   "cell_type": "code",
   "execution_count": 13,
   "id": "aa54cbac-89e3-43b9-98a4-b1f567a0876a",
   "metadata": {
    "tags": []
   },
   "outputs": [],
   "source": [
    "import pandas as pd\n",
    "import seaborn as sns\n",
    "import datetime"
   ]
  },
  {
   "cell_type": "code",
   "execution_count": 2,
   "id": "e7e06fca-99be-49bf-9dc3-a026d0be75ab",
   "metadata": {
    "tags": []
   },
   "outputs": [],
   "source": [
    "claimData = pd.read_csv('dataset/Synthetic_Data_For_Students.csv')"
   ]
  },
  {
   "cell_type": "code",
   "execution_count": 3,
   "id": "f00a2a50-9884-40b7-848f-0fb58f68174d",
   "metadata": {
    "tags": []
   },
   "outputs": [
    {
     "name": "stdout",
     "output_type": "stream",
     "text": [
      "Index(['SettlementValue', 'AccidentType', 'Injury_Prognosis',\n",
      "       'SpecialHealthExpenses', 'SpecialReduction', 'SpecialOverage',\n",
      "       'GeneralRest', 'SpecialAdditionalInjury', 'SpecialEarningsLoss',\n",
      "       'SpecialUsageLoss', 'SpecialMedications', 'SpecialAssetDamage',\n",
      "       'SpecialRehabilitation', 'SpecialFixes', 'GeneralFixed',\n",
      "       'GeneralUplift', 'SpecialLoanerVehicle', 'SpecialTripCosts',\n",
      "       'SpecialJourneyExpenses', 'SpecialTherapy', 'Exceptional_Circumstances',\n",
      "       'Minor_Psychological_Injury', 'Dominant injury', 'Whiplash',\n",
      "       'Vehicle Type', 'Weather Conditions', 'Accident Date', 'Claim Date',\n",
      "       'Vehicle Age', 'Driver Age', 'Number of Passengers',\n",
      "       'Accident Description', 'Injury Description', 'Police Report Filed',\n",
      "       'Witness Present', 'Gender'],\n",
      "      dtype='object')\n",
      "      SettlementValue                             AccidentType  \\\n",
      "0              520.00                                 Rear end   \n",
      "1              870.00                                 Rear end   \n",
      "2             2140.00       Other side pulled out of side road   \n",
      "3              520.00  Rear end - Clt pushed into next vehicle   \n",
      "4              260.00                                 Rear end   \n",
      "...               ...                                      ...   \n",
      "4995           275.00      Other side turned across Clt's path   \n",
      "4996          1074.35       Other side pulled out of side road   \n",
      "4997          2020.00       Other side pulled out of side road   \n",
      "4998           781.20          Rear end - 3 car - Clt at front   \n",
      "4999          1390.00                                 Rear end   \n",
      "\n",
      "     Injury_Prognosis  SpecialHealthExpenses  SpecialReduction  \\\n",
      "0         E. 5 months                    0.0               0.0   \n",
      "1         B. 2 months                    0.0               0.0   \n",
      "2         G. 7 months                    0.0               0.0   \n",
      "3         D. 4 months                    0.0               0.0   \n",
      "4         C. 3 months                    0.0               0.0   \n",
      "...               ...                    ...               ...   \n",
      "4995       A. 1 month                    0.0               0.0   \n",
      "4996      H. 8 months                    0.0               0.0   \n",
      "4997      F. 6 months                    0.0               0.0   \n",
      "4998      D. 4 months                    0.0               0.0   \n",
      "4999     K. 11 months                    0.0               0.0   \n",
      "\n",
      "      SpecialOverage  GeneralRest  SpecialAdditionalInjury  \\\n",
      "0                0.0          0.0                      0.0   \n",
      "1                0.0        520.0                      0.0   \n",
      "2                0.0       1400.0                      0.0   \n",
      "3                0.0          0.0                      0.0   \n",
      "4                0.0          0.0                      0.0   \n",
      "...              ...          ...                      ...   \n",
      "4995             0.0          0.0                      0.0   \n",
      "4996             0.0          0.0                      0.0   \n",
      "4997             0.0       2020.0                      0.0   \n",
      "4998             0.0          0.0                      0.0   \n",
      "4999             0.0       2300.0                      0.0   \n",
      "\n",
      "      SpecialEarningsLoss  SpecialUsageLoss  SpecialMedications  \\\n",
      "0                     0.0               0.0                 0.0   \n",
      "1                     0.0              90.0                 0.0   \n",
      "2                     0.0               0.0                 0.0   \n",
      "3                     0.0               0.0                 0.0   \n",
      "4                     0.0               0.0                 0.0   \n",
      "...                   ...               ...                 ...   \n",
      "4995                  0.0               0.0                 0.0   \n",
      "4996                  0.0               0.0                 0.0   \n",
      "4997                  0.0               0.0                 0.0   \n",
      "4998                  0.0               0.0                 0.0   \n",
      "4999                  0.0               0.0                 0.0   \n",
      "\n",
      "      SpecialAssetDamage  SpecialRehabilitation  SpecialFixes  GeneralFixed  \\\n",
      "0                    0.0                    0.0           0.0         520.0   \n",
      "1                    0.0                    0.0           0.0         260.0   \n",
      "2                    0.0                    0.0           0.0         840.0   \n",
      "3                    0.0                    0.0           0.0         520.0   \n",
      "4                    0.0                    0.0           0.0         260.0   \n",
      "...                  ...                    ...           ...           ...   \n",
      "4995                60.0                    0.0           0.0         260.0   \n",
      "4996                 0.0                    0.0           0.0         895.0   \n",
      "4997                 0.0                    0.0           0.0         520.0   \n",
      "4998                 0.0                    0.0           0.0         520.0   \n",
      "4999                 0.0                    0.0           0.0        1390.0   \n",
      "\n",
      "      GeneralUplift  SpecialLoanerVehicle  SpecialTripCosts  \\\n",
      "0               0.0                   0.0               0.0   \n",
      "1               0.0                   0.0               0.0   \n",
      "2               0.0                   0.0               0.0   \n",
      "3               0.0                   0.0               0.0   \n",
      "4               0.0                   0.0               0.0   \n",
      "...             ...                   ...               ...   \n",
      "4995            0.0                   0.0               0.0   \n",
      "4996            0.0                   0.0               0.0   \n",
      "4997            0.0                   0.0               0.0   \n",
      "4998            0.0                   0.0              16.2   \n",
      "4999            0.0                   0.0               0.0   \n",
      "\n",
      "      SpecialJourneyExpenses  SpecialTherapy Exceptional_Circumstances  \\\n",
      "0                        0.0            0.00                        No   \n",
      "1                        0.0            0.00                        No   \n",
      "2                        0.0            0.00                        No   \n",
      "3                        0.0            0.00                        No   \n",
      "4                        0.0            0.00                        No   \n",
      "...                      ...             ...                       ...   \n",
      "4995                    58.5            0.00                        No   \n",
      "4996                     0.0          247.35                        No   \n",
      "4997                     0.0            0.00                        No   \n",
      "4998                     0.0          350.00                        No   \n",
      "4999                     0.0            0.00                        No   \n",
      "\n",
      "     Minor_Psychological_Injury Dominant injury Whiplash Vehicle Type  \\\n",
      "0                           Yes            Arms      Yes   Motorcycle   \n",
      "1                           Yes        Multiple      Yes   Motorcycle   \n",
      "2                            No            Legs      Yes   Motorcycle   \n",
      "3                           Yes            Arms      Yes        Truck   \n",
      "4                           Yes            Arms       No   Motorcycle   \n",
      "...                         ...             ...      ...          ...   \n",
      "4995                        Yes            Legs       No        Truck   \n",
      "4996                        NaN            Hips      NaN        Truck   \n",
      "4997                        Yes            Arms       No          Car   \n",
      "4998                        Yes            Hips       No          Car   \n",
      "4999                        Yes        Multiple      Yes          Car   \n",
      "\n",
      "     Weather Conditions               Accident Date  \\\n",
      "0                 Rainy  2023-11-10 11:22:24.508901   \n",
      "1                 Snowy  2023-06-25 00:55:01.140228   \n",
      "2                 Sunny  2020-02-23 17:43:47.805561   \n",
      "3                 Rainy  2021-10-02 04:36:32.118423   \n",
      "4                 Rainy  2023-04-02 05:13:07.117423   \n",
      "...                 ...                         ...   \n",
      "4995              Snowy  2021-08-25 19:24:19.731946   \n",
      "4996              Snowy  2023-05-30 15:05:56.471294   \n",
      "4997              Sunny  2023-03-09 13:27:25.529105   \n",
      "4998              Rainy  2023-02-09 05:32:42.392478   \n",
      "4999              Sunny  2020-04-09 00:11:14.054810   \n",
      "\n",
      "                      Claim Date  Vehicle Age  Driver Age  \\\n",
      "0     2024-06-11 11:22:24.508901         13.0        33.0   \n",
      "1     2024-01-09 00:55:01.140228          4.0        45.0   \n",
      "2     2020-03-01 17:43:47.805561          9.0        45.0   \n",
      "3     2021-10-13 04:36:32.118423          5.0        62.0   \n",
      "4     2023-04-14 05:13:07.117423          9.0        78.0   \n",
      "...                          ...          ...         ...   \n",
      "4995  2022-06-30 19:24:19.731946         18.0        18.0   \n",
      "4996  2023-06-13 15:05:56.471294          NaN        70.0   \n",
      "4997  2023-08-05 13:27:25.529105         11.0        43.0   \n",
      "4998  2023-10-18 05:32:42.392478         10.0        69.0   \n",
      "4999  2020-06-05 00:11:14.054810          0.0        65.0   \n",
      "\n",
      "      Number of Passengers                Accident Description  \\\n",
      "0                      4.0  Side collision at an intersection.   \n",
      "1                      2.0  Side collision at an intersection.   \n",
      "2                      4.0       Lost control on a snowy road.   \n",
      "3                      1.0  Side collision at an intersection.   \n",
      "4                      1.0       Lost control on a snowy road.   \n",
      "...                    ...                                 ...   \n",
      "4995                   3.0          Hit a deer on the highway.   \n",
      "4996                   4.0  Side collision at an intersection.   \n",
      "4997                   1.0   Swerved to avoid another vehicle.   \n",
      "4998                   1.0       Lost control on a snowy road.   \n",
      "4999                   2.0          Rear-ended at a stoplight.   \n",
      "\n",
      "                Injury Description Police Report Filed Witness Present  Gender  \n",
      "0      Whiplash and minor bruises.                 Yes             Yes    Male  \n",
      "1          Minor cuts and scrapes.                 Yes             Yes  Female  \n",
      "2      Whiplash and minor bruises.                 Yes              No  Female  \n",
      "3          Minor cuts and scrapes.                 Yes             Yes  Female  \n",
      "4     Concussion and bruised ribs.                 Yes             Yes   Other  \n",
      "...                            ...                 ...             ...     ...  \n",
      "4995  Concussion and bruised ribs.                  No              No   Other  \n",
      "4996        Fractured arm and leg.                 Yes              No  Female  \n",
      "4997       Minor cuts and scrapes.                  No             Yes    Male  \n",
      "4998     Sprained ankle and wrist.                  No              No  Female  \n",
      "4999  Concussion and bruised ribs.                 Yes              No   Other  \n",
      "\n",
      "[5000 rows x 36 columns]\n"
     ]
    }
   ],
   "source": [
    "pd.set_option('display.max_columns', None)  \n",
    "print(claimData.columns)\n",
    "print(claimData)"
   ]
  },
  {
   "cell_type": "markdown",
   "id": "055f5baa-f856-4a36-adbf-3cf4bcc20105",
   "metadata": {},
   "source": [
    "## Handling Missing Data"
   ]
  },
  {
   "cell_type": "markdown",
   "id": "afb40bfe-d731-44dc-acca-2c8a02663c7c",
   "metadata": {},
   "source": [
    "### Removing Missing Values\n",
    "\n",
    "Since the settlement value is what's being predicted, any row with a null settlement value is invalid"
   ]
  },
  {
   "cell_type": "code",
   "execution_count": 4,
   "id": "6dd647cc-b989-4646-a679-6b288ef4503a",
   "metadata": {
    "tags": []
   },
   "outputs": [],
   "source": [
    "removableValueColumns = []\n",
    "removableValueColumns.append('SettlementValue')"
   ]
  },
  {
   "cell_type": "markdown",
   "id": "7eb7d3d7-bb6e-4c26-b11e-be6c58687e04",
   "metadata": {},
   "source": [
    "All values in injury prognosis have an associated letter code, since there is no provided letter code for missing/0 month prognoses there is no valid default value so any data rows with a missing prognosis is removed."
   ]
  },
  {
   "cell_type": "code",
   "execution_count": 5,
   "id": "55ac99e3-8456-4a47-880d-22b175f5b65a",
   "metadata": {
    "tags": []
   },
   "outputs": [],
   "source": [
    "removableValueColumns.append('Injury_Prognosis')"
   ]
  },
  {
   "cell_type": "markdown",
   "id": "1c366f17-f135-4fd7-83c2-754549908253",
   "metadata": {},
   "source": [
    "Dates and ages dont have good default values so they're removed. For number of passengers, while 1 seems a sensible default, this isn't necessarily a valid inference and is therefore removed."
   ]
  },
  {
   "cell_type": "code",
   "execution_count": 6,
   "id": "257f1e11-0f1c-44f3-a575-9ca00eab195a",
   "metadata": {
    "tags": []
   },
   "outputs": [],
   "source": [
    "removableValueColumns.append('Accident Date')\n",
    "removableValueColumns.append('Claim Date')\n",
    "removableValueColumns.append('Number of Passengers')\n",
    "removableValueColumns.append('Driver Age')\n",
    "removableValueColumns.append('Vehicle Age')"
   ]
  },
  {
   "cell_type": "code",
   "execution_count": 7,
   "id": "4ff675d8-df53-4452-8db7-118f2e862462",
   "metadata": {
    "tags": []
   },
   "outputs": [],
   "source": [
    "for rowIndex, rowData in claimData.iterrows():\n",
    "    for col in removableValueColumns:\n",
    "        if pd.isna(rowData[col]):\n",
    "            claimData.drop(index=rowIndex, inplace=True)\n",
    "            break"
   ]
  },
  {
   "cell_type": "code",
   "execution_count": 8,
   "id": "903c849f-2d92-4acc-8858-473b7114b4f6",
   "metadata": {
    "tags": []
   },
   "outputs": [
    {
     "name": "stdout",
     "output_type": "stream",
     "text": [
      "752\n",
      "4297\n"
     ]
    }
   ],
   "source": [
    "claimData.reset_index(drop=True, inplace=True)    \n",
    "\n",
    "print(claimData.isnull().any(axis = 1).sum())\n",
    "print(len(claimData))"
   ]
  },
  {
   "cell_type": "markdown",
   "id": "abb6be72-bd7b-4350-81ba-1315867f15dd",
   "metadata": {},
   "source": [
    "### Replace Missing Values\n",
    "\n",
    "The following columns all represent monetary values. A missing value is interpreted as no value and thus they are defaulted to 0."
   ]
  },
  {
   "cell_type": "code",
   "execution_count": 9,
   "id": "ec6a30e9-e6a4-4fce-907b-1c6a724b09ca",
   "metadata": {
    "tags": []
   },
   "outputs": [
    {
     "name": "stdout",
     "output_type": "stream",
     "text": [
      "429\n"
     ]
    }
   ],
   "source": [
    "defaultZeroColumns = ['SpecialHealthExpenses', 'SpecialReduction', 'SpecialOverage',\n",
    "                      'GeneralRest', 'SpecialAdditionalInjury', 'SpecialEarningsLoss',\n",
    "                      'SpecialUsageLoss', 'SpecialMedications', 'SpecialAssetDamage',\n",
    "                      'SpecialRehabilitation', 'SpecialFixes', 'GeneralFixed',\n",
    "                      'GeneralUplift', 'SpecialLoanerVehicle', 'SpecialTripCosts',\n",
    "                      'SpecialJourneyExpenses', 'SpecialTherapy']\n",
    "\n",
    "for rowIndex, rowData in claimData.iterrows():\n",
    "    for col in defaultZeroColumns:\n",
    "        if pd.isna(rowData[col]):\n",
    "            claimData.at[rowIndex, col] = 0\n",
    "            \n",
    "print(claimData.isnull().any(axis = 1).sum())"
   ]
  },
  {
   "cell_type": "markdown",
   "id": "ff6441f0-0c33-40ce-a614-bcd679d7bb5c",
   "metadata": {},
   "source": [
    "The following columns are all boolean values. A missing value here is interpreted as false."
   ]
  },
  {
   "cell_type": "code",
   "execution_count": 10,
   "id": "d6776e22-474a-4505-ba30-36cdba62f79d",
   "metadata": {
    "tags": []
   },
   "outputs": [],
   "source": [
    "defaultNoColumns = ['Exceptional_Circumstances', 'Minor_Psychological_Injury', 'Whiplash', 'Police Report Filed', 'Witness Present']\n",
    "\n",
    "for rowIndex, rowData in claimData.iterrows():\n",
    "    for col in defaultNoColumns:\n",
    "        if pd.isna(rowData[col]):\n",
    "            claimData.at[rowIndex, col] = \"No\""
   ]
  },
  {
   "cell_type": "code",
   "execution_count": 11,
   "id": "b69e0520-e3fa-4fde-8eab-c70e9e83f7f4",
   "metadata": {
    "tags": []
   },
   "outputs": [
    {
     "name": "stdout",
     "output_type": "stream",
     "text": [
      "325\n"
     ]
    }
   ],
   "source": [
    "print(claimData.isnull().any(axis = 1).sum())"
   ]
  },
  {
   "cell_type": "markdown",
   "id": "538367e1-2107-489e-831a-ada0dec8820f",
   "metadata": {
    "tags": []
   },
   "source": [
    "### Remaining Missing Values\n",
    "\n",
    "Any missing values that haven't been handled so far are in columns that will later be one hot encoded at which point the missing value will no longer be an issue as it will instead be represented by a 0 across all relevant onehot columns."
   ]
  },
  {
   "cell_type": "markdown",
   "id": "e32e1743-c5ca-4c31-a036-e701fb2a37e7",
   "metadata": {},
   "source": [
    "## Data Visualization"
   ]
  },
  {
   "cell_type": "markdown",
   "id": "669f5671-274d-4bfc-b7c2-1abd4c221005",
   "metadata": {},
   "source": [
    "In our dataset we have two protected characteristics:\n",
    "- Age\n",
    "- Gender\n",
    "\n",
    "We can plot these columns to visualise how the data is distributed and if it is representative/ balanced."
   ]
  },
  {
   "cell_type": "code",
   "execution_count": 28,
   "id": "c2af5dae-f93f-4bed-b1bc-fac700641993",
   "metadata": {
    "tags": []
   },
   "outputs": [
    {
     "data": {
      "text/plain": [
       "<seaborn.axisgrid.FacetGrid at 0x728b8f6fff90>"
      ]
     },
     "execution_count": 28,
     "metadata": {},
     "output_type": "execute_result"
    },
    {
     "data": {
      "image/png": "[encoded data removed]",
      "text/plain": [
       "<Figure size 500x500 with 1 Axes>"
      ]
     },
     "metadata": {},
     "output_type": "display_data"
    },
    {
     "data": {
      "image/png": "[encoded data removed]",
      "text/plain": [
       "<Figure size 2000x500 with 3 Axes>"
      ]
     },
     "metadata": {},
     "output_type": "display_data"
    }
   ],
   "source": [
    "sns.displot(claimData['Gender'].to_numpy())\n",
    "sns.displot(data=claimData, x=\"Driver Age\", col=\"Gender\", kde=True, col_wrap=4)"
   ]
  },
  {
   "cell_type": "markdown",
   "id": "f8b71cbc-c836-4b2b-b6d1-95a460e5e423",
   "metadata": {},
   "source": [
    "We have a good balance of sample size across gender. With only slightly more male than other categories.\n",
    "\n",
    "We also have a good distribution of age representation within these groups."
   ]
  },
  {
   "cell_type": "code",
   "execution_count": 29,
   "id": "1be037de-83e1-4e20-bc52-246689614df7",
   "metadata": {
    "tags": []
   },
   "outputs": [
    {
     "data": {
      "text/plain": [
       "<seaborn.axisgrid.FacetGrid at 0x728b8d1e80d0>"
      ]
     },
     "execution_count": 29,
     "metadata": {},
     "output_type": "execute_result"
    },
    {
     "data": {
      "image/png": "[encoded data removed]",
      "text/plain": [
       "<Figure size 2000x500 with 3 Axes>"
      ]
     },
     "metadata": {},
     "output_type": "display_data"
    }
   ],
   "source": [
    "sns.displot(data=claimData, x=\"SettlementValue\", col=\"Gender\", kde=True, col_wrap=4)"
   ]
  },
  {
   "cell_type": "markdown",
   "id": "c57d2963-e584-4ccc-9555-c59ab9afc4e9",
   "metadata": {},
   "source": [
    "## Reducing Accuracy\n",
    "\n",
    "Accident date and claim date are both recorded down to the millisecond which is far more accurate than is reasonably possible or necessary. Furthermore, since the time value for is identical across both fields it is likely that it was added automatically and/or by mistake."
   ]
  },
  {
   "cell_type": "code",
   "execution_count": 12,
   "id": "ed02ae3f-acff-4f89-91e9-6fdbbab7fa81",
   "metadata": {
    "tags": []
   },
   "outputs": [
    {
     "name": "stdout",
     "output_type": "stream",
     "text": [
      "     Accident Date  Claim Date\n",
      "0       2023-11-10  2024-06-11\n",
      "1       2023-06-25  2024-01-09\n",
      "2       2020-02-23  2020-03-01\n",
      "3       2021-10-02  2021-10-13\n",
      "4       2023-04-02  2023-04-14\n",
      "...            ...         ...\n",
      "4292    2022-09-14  2023-08-14\n",
      "4293    2021-08-25  2022-06-30\n",
      "4294    2023-03-09  2023-08-05\n",
      "4295    2023-02-09  2023-10-18\n",
      "4296    2020-04-09  2020-06-05\n",
      "\n",
      "[4297 rows x 2 columns]\n"
     ]
    }
   ],
   "source": [
    "for rowIndex, rowData in claimData.iterrows():\n",
    "    # The date portion of the data is always the first 10 characters\n",
    "    accidentDateOnly = rowData[\"Accident Date\"][:10]\n",
    "    claimDateOnly = rowData[\"Claim Date\"][:10]\n",
    "    \n",
    "    claimData.at[rowIndex, \"Accident Date\"] = accidentDateOnly\n",
    "    claimData.at[rowIndex, \"Claim Date\"] = claimDateOnly\n",
    "    \n",
    "print(claimData[[\"Accident Date\", \"Claim Date\"]])"
   ]
  },
  {
   "cell_type": "markdown",
   "id": "8cc66ae3-355d-4ccb-8776-dd100df770bb",
   "metadata": {},
   "source": [
    "## Data Types\n",
    "\n",
    "Currently the injury prognosis is stored as a string in the format \"X months\" and preceded by a letter code. The letter code and \"months\" text is completely unnecessary and thus are being removed and the field converted to an integer representing the prognosis in months."
   ]
  },
  {
   "cell_type": "code",
   "execution_count": 13,
   "id": "592bf39f-5397-4715-adf0-fb234c9a7909",
   "metadata": {
    "tags": []
   },
   "outputs": [
    {
     "name": "stdout",
     "output_type": "stream",
     "text": [
      "0        5\n",
      "1        2\n",
      "2        7\n",
      "3        4\n",
      "4        3\n",
      "        ..\n",
      "4292     4\n",
      "4293     1\n",
      "4294     6\n",
      "4295     4\n",
      "4296    11\n",
      "Name: Injury_Prognosis, Length: 4297, dtype: object\n"
     ]
    }
   ],
   "source": [
    "i = 0\n",
    "for cellData in claimData[\"Injury_Prognosis\"]:\n",
    "    months = int(''.join(c for c in cellData if c.isdigit()))\n",
    "    claimData.at[i, \"Injury_Prognosis\"] = months\n",
    "    i += 1\n",
    "    \n",
    "print(claimData[\"Injury_Prognosis\"])"
   ]
  },
  {
   "cell_type": "markdown",
   "id": "decce8ef-096a-4137-b2fb-48948d78641d",
   "metadata": {},
   "source": [
    "There are several columns which only contain \"Yes\" or \"No\" and as such are better represented boolean or binary values."
   ]
  },
  {
   "cell_type": "code",
   "execution_count": 14,
   "id": "539b511a-b75a-4851-a669-87bb11aeaef0",
   "metadata": {},
   "outputs": [
    {
     "name": "stdout",
     "output_type": "stream",
     "text": [
      "     Exceptional_Circumstances Minor_Psychological_Injury Whiplash  \\\n",
      "0                            0                          1        1   \n",
      "1                            0                          1        1   \n",
      "2                            0                          0        1   \n",
      "3                            0                          1        1   \n",
      "4                            0                          1        0   \n",
      "...                        ...                        ...      ...   \n",
      "4292                         0                          1        0   \n",
      "4293                         0                          1        0   \n",
      "4294                         0                          1        0   \n",
      "4295                         0                          1        0   \n",
      "4296                         0                          1        1   \n",
      "\n",
      "     Police Report Filed Witness Present  \n",
      "0                      1               1  \n",
      "1                      1               1  \n",
      "2                      1               0  \n",
      "3                      1               1  \n",
      "4                      1               1  \n",
      "...                  ...             ...  \n",
      "4292                   1               0  \n",
      "4293                   0               0  \n",
      "4294                   0               1  \n",
      "4295                   0               0  \n",
      "4296                   1               0  \n",
      "\n",
      "[4297 rows x 5 columns]\n"
     ]
    }
   ],
   "source": [
    "binaryCols = defaultNoColumns\n",
    "\n",
    "for col in binaryCols:\n",
    "    i = 0\n",
    "    for cellData in claimData[col]:\n",
    "        val = 1 if cellData == \"Yes\" else 0\n",
    "        claimData.at[i, col] = val\n",
    "        i += 1\n",
    "        \n",
    "print(claimData[binaryCols])"
   ]
  },
  {
   "cell_type": "markdown",
   "id": "6cccf4e2-9f4c-40f1-9295-1a9249c7c55c",
   "metadata": {},
   "source": [
    "In order for an AI to properly train on and understand a date, we need to convert it to a numerical value first, such as unix time or in our case (since we are using date only) julian date."
   ]
  },
  {
   "cell_type": "code",
   "execution_count": 15,
   "id": "e2e9e2f2-d4b3-4ef4-8eb0-8f86e075156e",
   "metadata": {},
   "outputs": [
    {
     "name": "stdout",
     "output_type": "stream",
     "text": [
      "     Accident Date Claim Date\n",
      "0          2023314    2023163\n",
      "1          2023176    2023009\n",
      "2          2020054    2020061\n",
      "3          2021275    2021286\n",
      "4          2023092    2023104\n",
      "...            ...        ...\n",
      "4292       2022257    2022226\n",
      "4293       2021237    2021181\n",
      "4294       2023068    2023217\n",
      "4295       2023040    2023291\n",
      "4296       2020100    2020157\n",
      "\n",
      "[4297 rows x 2 columns]\n"
     ]
    }
   ],
   "source": [
    "for rowIndex, rowData in claimData.iterrows():\n",
    "    accidentDate = rowData[\"Accident Date\"]\n",
    "    claimDate = rowData[\"Claim Date\"]\n",
    "    \n",
    "    accidentDate = datetime.datetime.strptime(accidentDate, '%Y-%m-%d')\n",
    "    accidentJulianDay = accidentDate.strftime('%j')\n",
    "    accidentJulianDate = int(f\"{accidentDate.year}{accidentJulianDay}\")\n",
    "    \n",
    "    claimDate = datetime.datetime.strptime(claimDate, '%Y-%m-%d')\n",
    "    claimJulianDay = claimDate.strftime('%j')\n",
    "    claimJulianDate = int(f\"{accidentDate.year}{claimJulianDay}\")\n",
    "    \n",
    "    claimData.at[rowIndex, \"Accident Date\"] = accidentJulianDate\n",
    "    claimData.at[rowIndex, \"Claim Date\"] = claimJulianDate\n",
    "    \n",
    "print(claimData[[\"Accident Date\", \"Claim Date\"]])"
   ]
  },
  {
   "cell_type": "code",
   "execution_count": 16,
   "id": "24e30eca-4050-4aa7-959a-810b0d335224",
   "metadata": {},
   "outputs": [
    {
     "data": {
      "text/plain": [
       "SettlementValue               Float64\n",
       "AccidentType                   string\n",
       "Injury_Prognosis                Int64\n",
       "SpecialHealthExpenses           Int64\n",
       "SpecialReduction                Int64\n",
       "SpecialOverage                Float64\n",
       "GeneralRest                   Float64\n",
       "SpecialAdditionalInjury       Float64\n",
       "SpecialEarningsLoss           Float64\n",
       "SpecialUsageLoss                Int64\n",
       "SpecialMedications            Float64\n",
       "SpecialAssetDamage            Float64\n",
       "SpecialRehabilitation         Float64\n",
       "SpecialFixes                  Float64\n",
       "GeneralFixed                    Int64\n",
       "GeneralUplift                 Float64\n",
       "SpecialLoanerVehicle          Float64\n",
       "SpecialTripCosts              Float64\n",
       "SpecialJourneyExpenses        Float64\n",
       "SpecialTherapy                Float64\n",
       "Exceptional_Circumstances       Int64\n",
       "Minor_Psychological_Injury      Int64\n",
       "Dominant injury                string\n",
       "Whiplash                        Int64\n",
       "Vehicle Type                   string\n",
       "Weather Conditions             string\n",
       "Accident Date                   Int64\n",
       "Claim Date                      Int64\n",
       "Vehicle Age                     Int64\n",
       "Driver Age                      Int64\n",
       "Number of Passengers            Int64\n",
       "Accident Description           string\n",
       "Injury Description             string\n",
       "Police Report Filed             Int64\n",
       "Witness Present                 Int64\n",
       "Gender                         string\n",
       "dtype: object"
      ]
     },
     "execution_count": 16,
     "metadata": {},
     "output_type": "execute_result"
    }
   ],
   "source": [
    "claimData.convert_dtypes().dtypes"
   ]
  },
  {
   "cell_type": "markdown",
   "id": "3e34715e-24aa-4059-97fe-c471fd322b09",
   "metadata": {},
   "source": [
    "## Column Names\n",
    "\n",
    "Column names in the dataset use varying naming conventions including PascalCase, Snake_Case and some are simply written with spaces. The database being used has all column names in PascalCase so for clarity and consistency all columns in the dataset will be converted. "
   ]
  },
  {
   "cell_type": "code",
   "execution_count": 17,
   "id": "22894f58-2285-461c-9c25-424052b001c0",
   "metadata": {
    "tags": []
   },
   "outputs": [
    {
     "name": "stdout",
     "output_type": "stream",
     "text": [
      "Index(['SettlementValue', 'AccidentType', 'InjuryPrognosis',\n",
      "       'SpecialHealthExpenses', 'SpecialReduction', 'SpecialOverage',\n",
      "       'GeneralRest', 'SpecialAdditionalInjury', 'SpecialEarningsLoss',\n",
      "       'SpecialUsageLoss', 'SpecialMedications', 'SpecialAssetDamage',\n",
      "       'SpecialRehabilitation', 'SpecialFixes', 'GeneralFixed',\n",
      "       'GeneralUplift', 'SpecialLoanerVehicle', 'SpecialTripCosts',\n",
      "       'SpecialJourneyExpenses', 'SpecialTherapy', 'ExceptionalCircumstances',\n",
      "       'MinorPsychologicalInjury', 'DominantInjury', 'Whiplash', 'VehicleType',\n",
      "       'WeatherConditions', 'AccidentDate', 'ClaimDate', 'VehicleAge',\n",
      "       'DriverAge', 'NumberOfPassengers', 'AccidentDescription',\n",
      "       'InjuryDescription', 'PoliceReportFiled', 'WitnessPresent', 'Gender'],\n",
      "      dtype='object')\n"
     ]
    }
   ],
   "source": [
    "columnRenameDict = {\n",
    "    \"Injury_Prognosis\":\"InjuryPrognosis\",\n",
    "    \"Exceptional_Circumstances\":\"ExceptionalCircumstances\",\n",
    "    \"Minor_Psychological_Injury\":\"MinorPsychologicalInjury\",\n",
    "    \"Dominant injury\":\"DominantInjury\",\n",
    "    \"Vehicle Type\":\"VehicleType\",\n",
    "    \"Weather Conditions\":\"WeatherConditions\",\n",
    "    \"Accident Date\":\"AccidentDate\",\n",
    "    \"Claim Date\":\"ClaimDate\",\n",
    "    \"Vehicle Age\":\"VehicleAge\",\n",
    "    \"Driver Age\":\"DriverAge\",\n",
    "    \"Number of Passengers\":\"NumberOfPassengers\",\n",
    "    \"Accident Description\":\"AccidentDescription\",\n",
    "    \"Injury Description\":\"InjuryDescription\",\n",
    "    \"Police Report Filed\":\"PoliceReportFiled\",\n",
    "    \"Witness Present\":\"WitnessPresent\"\n",
    "}\n",
    "\n",
    "claimData = claimData.rename(columns=columnRenameDict)\n",
    "print(claimData.columns)"
   ]
  },
  {
   "cell_type": "code",
   "execution_count": 18,
   "id": "d9be70d6-79fb-451c-a284-b056d2164ae3",
   "metadata": {},
   "outputs": [],
   "source": [
    "claimData.to_csv('ProcessedClaimData.csv', index=False)"
   ]
  }
 ],
 "metadata": {
  "kernelspec": {
   "display_name": "adv_ai",
   "language": "python",
   "name": "adv_ai"
  },
  "language_info": {
   "codemirror_mode": {
    "name": "ipython",
    "version": 3
   },
   "file_extension": ".py",
   "mimetype": "text/x-python",
   "name": "python",
   "nbconvert_exporter": "python",
   "pygments_lexer": "ipython3",
   "version": "3.11.9"
  }
 },
 "nbformat": 4,
 "nbformat_minor": 5
}
